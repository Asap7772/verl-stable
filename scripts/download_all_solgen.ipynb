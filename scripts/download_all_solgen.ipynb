{
 "cells": [
  {
   "cell_type": "code",
   "execution_count": 1,
   "metadata": {},
   "outputs": [
    {
     "name": "stderr",
     "output_type": "stream",
     "text": [
      "/iris/u/asap7772/miniconda3/envs/verl/lib/python3.10/site-packages/tqdm/auto.py:21: TqdmWarning: IProgress not found. Please update jupyter and ipywidgets. See https://ipywidgets.readthedocs.io/en/stable/user_install.html\n",
      "  from .autonotebook import tqdm as notebook_tqdm\n",
      "Generating train split: 100%|██████████| 12853/12853 [00:00<00:00, 21999.30 examples/s]\n",
      "Creating parquet from Arrow format: 100%|██████████| 12/12 [00:01<00:00,  9.11ba/s]\n",
      "Creating parquet from Arrow format: 100%|██████████| 2/2 [00:00<00:00, 47.76ba/s]\n",
      "Generating train split: 100%|██████████| 12853/12853 [00:00<00:00, 18716.86 examples/s]\n",
      "Creating parquet from Arrow format: 100%|██████████| 12/12 [00:00<00:00, 12.48ba/s]\n",
      "Creating parquet from Arrow format: 100%|██████████| 2/2 [00:00<00:00, 45.46ba/s]\n",
      "Generating train split: 100%|██████████| 12854/12854 [00:00<00:00, 21206.64 examples/s]\n",
      "Creating parquet from Arrow format: 100%|██████████| 12/12 [00:00<00:00, 14.07ba/s]\n",
      "Creating parquet from Arrow format: 100%|██████████| 2/2 [00:00<00:00, 45.23ba/s]\n",
      "Generating train split: 100%|██████████| 12854/12854 [00:00<00:00, 17557.46 examples/s]\n",
      "Creating parquet from Arrow format: 100%|██████████| 12/12 [00:01<00:00, 11.51ba/s]\n",
      "Creating parquet from Arrow format: 100%|██████████| 2/2 [00:00<00:00, 44.11ba/s]\n",
      "Generating train split: 100%|██████████| 2493/2493 [00:00<00:00, 22589.92 examples/s]\n",
      "Creating parquet from Arrow format: 100%|██████████| 3/3 [00:00<00:00, 18.19ba/s]\n",
      "Creating parquet from Arrow format: 100%|██████████| 1/1 [00:00<00:00, 121.24ba/s]\n",
      "Generating train split: 100%|██████████| 2493/2493 [00:00<00:00, 17721.90 examples/s]\n",
      "Creating parquet from Arrow format: 100%|██████████| 3/3 [00:00<00:00, 15.35ba/s]\n",
      "Creating parquet from Arrow format: 100%|██████████| 1/1 [00:00<00:00, 116.58ba/s]\n",
      "Generating train split: 100%|██████████| 12693/12693 [00:00<00:00, 21122.06 examples/s]\n",
      "Creating parquet from Arrow format: 100%|██████████| 12/12 [00:00<00:00, 13.42ba/s]\n",
      "Creating parquet from Arrow format: 100%|██████████| 2/2 [00:00<00:00, 46.32ba/s]\n",
      "Generating train split: 100%|██████████| 12693/12693 [00:00<00:00, 17309.32 examples/s]\n",
      "Creating parquet from Arrow format: 100%|██████████| 12/12 [00:01<00:00, 11.31ba/s]\n",
      "Creating parquet from Arrow format: 100%|██████████| 2/2 [00:00<00:00, 46.15ba/s]\n"
     ]
    }
   ],
   "source": [
    "import datasets\n",
    "\n",
    "curr_datasets = [\n",
    "    'Asap7772/d1shs0ap-easy-hintgen-qwen3-4b-lr1e6-verl-mixTrue',\n",
    "    'Asap7772/d1shs0ap-easy-hintgen-qwen3-4b-lr1e6-verl-mixFalse',\n",
    "    'Asap7772/d1shs0ap-medium-hintgen-qwen3-4b-lr1e6-verl-mixTrue',\n",
    "    'Asap7772/d1shs0ap-medium-hintgen-qwen3-4b-lr1e6-verl-mixFalse',\n",
    "    'Asap7772/d1shs0ap-medium_2500-hintgen-qwen3-4b-lr1e6-verl-mixTrue',\n",
    "    'Asap7772/d1shs0ap-medium_2500-hintgen-qwen3-4b-lr1e6-verl-mixFalse',\n",
    "    'Asap7772/d1shs0ap-hard-hintgen-qwen3-4b-lr1e6-verl-mixTrue',\n",
    "    'Asap7772/d1shs0ap-hard-hintgen-qwen3-4b-lr1e6-verl-mixFalse',\n",
    "]\n",
    "\n",
    "for dataset in curr_datasets:\n",
    "    ds = datasets.load_dataset(dataset, split='train')\n",
    "    ds = ds.train_test_split(test_size=0.1, seed=42)\n",
    "\n",
    "    which_mix = 'mixTrue' if 'mixTrue' in dataset else 'mixFalse'\n",
    "    if 'easy' in dataset:\n",
    "        base_path = f'/iris/u/asap7772/rl_behaviors_verl_stable/data_d1shs0ap-easy-{which_mix}'\n",
    "    elif 'medium_2500' in dataset:\n",
    "        base_path = f'/iris/u/asap7772/rl_behaviors_verl_stable/data_d1shs0ap-medium_2500-{which_mix}'\n",
    "    elif 'medium' in dataset:\n",
    "        base_path = f'/iris/u/asap7772/rl_behaviors_verl_stable/data_d1shs0ap-medium-{which_mix}'\n",
    "    elif 'hard' in dataset:\n",
    "        base_path = f'/iris/u/asap7772/rl_behaviors_verl_stable/data_d1shs0ap-hard-{which_mix}'\n",
    "    else:\n",
    "        raise ValueError(f'Unknown dataset: {dataset}')\n",
    "\n",
    "    ds['train'].to_parquet(f'{base_path}/train.parquet')\n",
    "    ds['test'].to_parquet(f'{base_path}/test.parquet')"
   ]
  },
  {
   "cell_type": "code",
   "execution_count": null,
   "metadata": {},
   "outputs": [],
   "source": []
  }
 ],
 "metadata": {
  "language_info": {
   "name": "python"
  }
 },
 "nbformat": 4,
 "nbformat_minor": 2
}
