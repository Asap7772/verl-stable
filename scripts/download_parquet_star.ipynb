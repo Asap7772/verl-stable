{
 "cells": [
  {
   "cell_type": "code",
   "execution_count": 2,
   "metadata": {},
   "outputs": [
    {
     "name": "stderr",
     "output_type": "stream",
     "text": [
      "Setting num_proc from 16 back to 1 for the train split to disable multiprocessing as it only contains one shard.\n",
      "Generating train split: 100%|██████████| 7695/7695 [00:00<00:00, 21411.68 examples/s]\n",
      "Setting num_proc from 16 back to 1 for the test split to disable multiprocessing as it only contains one shard.\n",
      "Generating test split: 100%|██████████| 855/855 [00:00<00:00, 25060.66 examples/s]\n",
      "Creating parquet from Arrow format: 100%|██████████| 8/8 [00:00<00:00, 35.43ba/s]\n",
      "Creating parquet from Arrow format: 100%|██████████| 1/1 [00:00<00:00, 42.97ba/s]\n",
      "Setting num_proc from 16 back to 1 for the train split to disable multiprocessing as it only contains one shard.\n",
      "Generating train split: 100%|██████████| 7695/7695 [00:00<00:00, 35805.84 examples/s]\n",
      "Setting num_proc from 16 back to 1 for the test split to disable multiprocessing as it only contains one shard.\n",
      "Generating test split: 100%|██████████| 855/855 [00:00<00:00, 36918.65 examples/s]\n",
      "Creating parquet from Arrow format: 100%|██████████| 8/8 [00:00<00:00, 71.58ba/s]\n",
      "Creating parquet from Arrow format: 100%|██████████| 1/1 [00:00<00:00, 82.03ba/s]\n",
      "Setting num_proc from 16 back to 1 for the train split to disable multiprocessing as it only contains one shard.\n",
      "Generating train split: 100%|██████████| 4140/4140 [00:00<00:00, 21437.90 examples/s]\n",
      "Setting num_proc from 16 back to 1 for the test split to disable multiprocessing as it only contains one shard.\n",
      "Generating test split: 100%|██████████| 460/460 [00:00<00:00, 22613.45 examples/s]\n",
      "Creating parquet from Arrow format: 100%|██████████| 5/5 [00:00<00:00, 41.28ba/s]\n",
      "Creating parquet from Arrow format: 100%|██████████| 1/1 [00:00<00:00, 109.41ba/s]\n",
      "Setting num_proc from 16 back to 1 for the train split to disable multiprocessing as it only contains one shard.\n",
      "Generating train split: 100%|██████████| 4140/4140 [00:00<00:00, 36385.47 examples/s]\n",
      "Setting num_proc from 16 back to 1 for the test split to disable multiprocessing as it only contains one shard.\n",
      "Generating test split: 100%|██████████| 460/460 [00:00<00:00, 31384.79 examples/s]\n",
      "Creating parquet from Arrow format: 100%|██████████| 5/5 [00:00<00:00, 78.99ba/s]\n",
      "Creating parquet from Arrow format: 100%|██████████| 1/1 [00:00<00:00, 454.37ba/s]\n"
     ]
    }
   ],
   "source": [
    "import datasets\n",
    "import os\n",
    "\n",
    "all_datasets=[\n",
    "    'Asap7772/d1shs0ap-star-data-balanceFalse-nohintFalse',\n",
    "    'Asap7772/d1shs0ap-star-data-balanceFalse-nohintTrue',\n",
    "    'Asap7772/d1shs0ap-star-data-balanceTrue-nohintFalse',\n",
    "    'Asap7772/d1shs0ap-star-data-balanceTrue-nohintTrue',\n",
    "]\n",
    "\n",
    "output_dataset_paths = [\n",
    "    '/iris/u/asap7772/rl_behaviors_verl_stable/data_d1shs0ap-star-data-balanceFalse-nohintFalse/',\n",
    "    '/iris/u/asap7772/rl_behaviors_verl_stable/data_d1shs0ap-star-data-balanceFalse-nohintTrue/',\n",
    "    '/iris/u/asap7772/rl_behaviors_verl_stable/data_d1shs0ap-star-data-balanceTrue-nohintFalse/',\n",
    "    '/iris/u/asap7772/rl_behaviors_verl_stable/data_d1shs0ap-star-data-balanceTrue-nohintTrue/',\n",
    "]\n",
    "\n",
    "for dataset_name, dataset_path in zip(all_datasets, output_dataset_paths):\n",
    "    dataset = datasets.load_dataset(dataset_name, num_proc=os.cpu_count())\n",
    "    os.makedirs(dataset_path, exist_ok=True)\n",
    "    dataset['train'].to_parquet(os.path.join(dataset_path, 'train.parquet'))\n",
    "    dataset['test'].to_parquet(os.path.join(dataset_path, 'test.parquet'))"
   ]
  },
  {
   "cell_type": "code",
   "execution_count": 1,
   "metadata": {},
   "outputs": [
    {
     "data": {
      "application/vnd.jupyter.widget-view+json": {
       "model_id": "d2cbb06e2d104da2923a256eb2013b2f",
       "version_major": 2,
       "version_minor": 0
      },
      "text/plain": [
       "README.md:   0%|          | 0.00/420 [00:00<?, ?B/s]"
      ]
     },
     "metadata": {},
     "output_type": "display_data"
    },
    {
     "name": "stderr",
     "output_type": "stream",
     "text": [
      "Setting num_proc from 24 back to 1 for the train split to disable multiprocessing as it only contains one shard.\n"
     ]
    },
    {
     "data": {
      "application/vnd.jupyter.widget-view+json": {
       "model_id": "a9082ce88c194a9388e228eee938a7ff",
       "version_major": 2,
       "version_minor": 0
      },
      "text/plain": [
       "Generating train split:   0%|          | 0/4500 [00:00<?, ? examples/s]"
      ]
     },
     "metadata": {},
     "output_type": "display_data"
    },
    {
     "name": "stderr",
     "output_type": "stream",
     "text": [
      "Setting num_proc from 24 back to 1 for the test split to disable multiprocessing as it only contains one shard.\n"
     ]
    },
    {
     "data": {
      "application/vnd.jupyter.widget-view+json": {
       "model_id": "014fac7b46544662b7b3aa458d28c0e4",
       "version_major": 2,
       "version_minor": 0
      },
      "text/plain": [
       "Generating test split:   0%|          | 0/500 [00:00<?, ? examples/s]"
      ]
     },
     "metadata": {},
     "output_type": "display_data"
    },
    {
     "data": {
      "application/vnd.jupyter.widget-view+json": {
       "model_id": "18a9feb18d304a03865f2aa55692fdf3",
       "version_major": 2,
       "version_minor": 0
      },
      "text/plain": [
       "Creating parquet from Arrow format:   0%|          | 0/5 [00:00<?, ?ba/s]"
      ]
     },
     "metadata": {},
     "output_type": "display_data"
    },
    {
     "data": {
      "application/vnd.jupyter.widget-view+json": {
       "model_id": "3c442221b7f14049bb45968e9da0f919",
       "version_major": 2,
       "version_minor": 0
      },
      "text/plain": [
       "Creating parquet from Arrow format:   0%|          | 0/1 [00:00<?, ?ba/s]"
      ]
     },
     "metadata": {},
     "output_type": "display_data"
    }
   ],
   "source": [
    "import datasets\n",
    "import os\n",
    "\n",
    "all_datasets=[\n",
    "    'Asap7772/dapo5k-offlinedata-hintgen-qwen3-4b-lr1e6-warmstartfinal'\n",
    "]\n",
    "\n",
    "output_dataset_paths = [\n",
    "    '/home/anikait.singh/rl_behaviors_verl_stable/dapo5k-offlinedata-hintgen-qwen3-4b-lr1e6-warmstartfinal/',\n",
    "]\n",
    "\n",
    "for dataset_name, dataset_path in zip(all_datasets, output_dataset_paths):\n",
    "    dataset = datasets.load_dataset(dataset_name, num_proc=os.cpu_count())\n",
    "    os.makedirs(dataset_path, exist_ok=True)\n",
    "    dataset['train'].to_parquet(os.path.join(dataset_path, 'train.parquet'))\n",
    "    dataset['test'].to_parquet(os.path.join(dataset_path, 'test.parquet'))"
   ]
  },
  {
   "cell_type": "code",
   "execution_count": 2,
   "metadata": {},
   "outputs": [
    {
     "data": {
      "text/plain": [
       "Dataset({\n",
       "    features: ['completion', 'query'],\n",
       "    num_rows: 5000\n",
       "})"
      ]
     },
     "execution_count": 2,
     "metadata": {},
     "output_type": "execute_result"
    }
   ],
   "source": [
    "ds_cat = datasets.concatenate_datasets([dataset['train'], dataset['test']])\n",
    "ds_cat"
   ]
  },
  {
   "cell_type": "code",
   "execution_count": 5,
   "metadata": {},
   "outputs": [
    {
     "data": {
      "application/vnd.jupyter.widget-view+json": {
       "model_id": "d7e161e4c63a4dc99b7f6c3ec198d143",
       "version_major": 2,
       "version_minor": 0
      },
      "text/plain": [
       "Map (num_proc=24):   0%|          | 0/5000 [00:00<?, ? examples/s]"
      ]
     },
     "metadata": {},
     "output_type": "display_data"
    },
    {
     "data": {
      "text/plain": [
       "1723"
      ]
     },
     "execution_count": 5,
     "metadata": {},
     "output_type": "execute_result"
    }
   ],
   "source": [
    "import os\n",
    "def join_fn(x):\n",
    "    x['join'] = x['completion'] + x['query']\n",
    "    x['length'] = len(x['join'])//4\n",
    "    return x\n",
    "ds_join = ds_cat.map(join_fn, num_proc=os.cpu_count())\n",
    "max(ds_join['length'])"
   ]
  },
  {
   "cell_type": "code",
   "execution_count": null,
   "metadata": {},
   "outputs": [],
   "source": []
  }
 ],
 "metadata": {
  "kernelspec": {
   "display_name": "verl",
   "language": "python",
   "name": "python3"
  },
  "language_info": {
   "codemirror_mode": {
    "name": "ipython",
    "version": 3
   },
   "file_extension": ".py",
   "mimetype": "text/x-python",
   "name": "python",
   "nbconvert_exporter": "python",
   "pygments_lexer": "ipython3",
   "version": "3.10.0"
  }
 },
 "nbformat": 4,
 "nbformat_minor": 2
}
