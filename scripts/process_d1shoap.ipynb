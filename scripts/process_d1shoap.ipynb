{
 "cells": [
  {
   "cell_type": "code",
   "execution_count": 1,
   "metadata": {},
   "outputs": [
    {
     "data": {
      "text/plain": [
       "DatasetDict({\n",
       "    train: Dataset({\n",
       "        features: ['problem', 'answer', 'solution', 'reward', 'length', 'correct_length', 'incorrect_length'],\n",
       "        num_rows: 38400\n",
       "    })\n",
       "    test: Dataset({\n",
       "        features: ['problem', 'answer', 'solution', 'reward', 'length', 'correct_length', 'incorrect_length'],\n",
       "        num_rows: 1915\n",
       "    })\n",
       "    easy: Dataset({\n",
       "        features: ['problem', 'answer', 'solution', 'reward', 'length', 'correct_length', 'incorrect_length'],\n",
       "        num_rows: 12853\n",
       "    })\n",
       "    medium: Dataset({\n",
       "        features: ['problem', 'answer', 'solution', 'reward', 'length', 'correct_length', 'incorrect_length'],\n",
       "        num_rows: 12854\n",
       "    })\n",
       "    hard: Dataset({\n",
       "        features: ['problem', 'answer', 'solution', 'reward', 'length', 'correct_length', 'incorrect_length'],\n",
       "        num_rows: 12693\n",
       "    })\n",
       "    medium_2500: Dataset({\n",
       "        features: ['problem', 'answer', 'solution', 'reward', 'length', 'correct_length', 'incorrect_length'],\n",
       "        num_rows: 2493\n",
       "    })\n",
       "})"
      ]
     },
     "execution_count": 1,
     "metadata": {},
     "output_type": "execute_result"
    }
   ],
   "source": [
    "import datasets\n",
    "ds = datasets.load_dataset('Asap7772/d1shs0ap_math_split')\n",
    "ds"
   ]
  },
  {
   "cell_type": "code",
   "execution_count": 3,
   "metadata": {},
   "outputs": [
    {
     "data": {
      "application/vnd.jupyter.widget-view+json": {
       "model_id": "cce26ec9fc89498c8fecf191ccdbe70a",
       "version_major": 2,
       "version_minor": 0
      },
      "text/plain": [
       "Map (num_proc=24):   0%|          | 0/38400 [00:00<?, ? examples/s]"
      ]
     },
     "metadata": {},
     "output_type": "display_data"
    },
    {
     "data": {
      "application/vnd.jupyter.widget-view+json": {
       "model_id": "bb4c99bdf7a445cb9be867ccb169cf56",
       "version_major": 2,
       "version_minor": 0
      },
      "text/plain": [
       "Map (num_proc=24):   0%|          | 0/1915 [00:00<?, ? examples/s]"
      ]
     },
     "metadata": {},
     "output_type": "display_data"
    },
    {
     "data": {
      "application/vnd.jupyter.widget-view+json": {
       "model_id": "dfc073e1f3314db0b76544497bbeb1dd",
       "version_major": 2,
       "version_minor": 0
      },
      "text/plain": [
       "Map (num_proc=24):   0%|          | 0/12853 [00:00<?, ? examples/s]"
      ]
     },
     "metadata": {},
     "output_type": "display_data"
    },
    {
     "data": {
      "application/vnd.jupyter.widget-view+json": {
       "model_id": "197e06c05f4d4c0fac0d3507fda45379",
       "version_major": 2,
       "version_minor": 0
      },
      "text/plain": [
       "Map (num_proc=24):   0%|          | 0/12854 [00:00<?, ? examples/s]"
      ]
     },
     "metadata": {},
     "output_type": "display_data"
    },
    {
     "data": {
      "application/vnd.jupyter.widget-view+json": {
       "model_id": "ee6fc74a160e43b39b4baeb71cdd8b4b",
       "version_major": 2,
       "version_minor": 0
      },
      "text/plain": [
       "Map (num_proc=24):   0%|          | 0/12693 [00:00<?, ? examples/s]"
      ]
     },
     "metadata": {},
     "output_type": "display_data"
    },
    {
     "data": {
      "application/vnd.jupyter.widget-view+json": {
       "model_id": "0bb8fc9553464efe85e4251afba703e6",
       "version_major": 2,
       "version_minor": 0
      },
      "text/plain": [
       "Map (num_proc=24):   0%|          | 0/2493 [00:00<?, ? examples/s]"
      ]
     },
     "metadata": {},
     "output_type": "display_data"
    }
   ],
   "source": [
    "import os\n",
    "def map_fn(example, index):\n",
    "    data_dict = {}\n",
    "    data_dict['data_source'] = ''\n",
    "    data_dict['prompt'] = [{'role': 'user', 'content': example['problem']}]\n",
    "    data_dict['ability'] = 'math'\n",
    "    data_dict['reward_model'] = {'style': 'rule', 'ground_truth': example['answer']}\n",
    "    data_dict['extra_info'] = {'split': 'train', 'index': index}\n",
    "    return data_dict\n",
    "\n",
    "ds = ds.map(map_fn, batched=False, num_proc=os.cpu_count(), with_indices=True)"
   ]
  },
  {
   "cell_type": "code",
   "execution_count": 5,
   "metadata": {},
   "outputs": [
    {
     "data": {
      "text/plain": [
       "DatasetDict({\n",
       "    train: Dataset({\n",
       "        features: ['problem', 'answer', 'solution', 'reward', 'length', 'correct_length', 'incorrect_length', 'data_source', 'prompt', 'ability', 'reward_model', 'extra_info'],\n",
       "        num_rows: 38400\n",
       "    })\n",
       "    test: Dataset({\n",
       "        features: ['problem', 'answer', 'solution', 'reward', 'length', 'correct_length', 'incorrect_length', 'data_source', 'prompt', 'ability', 'reward_model', 'extra_info'],\n",
       "        num_rows: 1915\n",
       "    })\n",
       "    easy: Dataset({\n",
       "        features: ['problem', 'answer', 'solution', 'reward', 'length', 'correct_length', 'incorrect_length', 'data_source', 'prompt', 'ability', 'reward_model', 'extra_info'],\n",
       "        num_rows: 12853\n",
       "    })\n",
       "    medium: Dataset({\n",
       "        features: ['problem', 'answer', 'solution', 'reward', 'length', 'correct_length', 'incorrect_length', 'data_source', 'prompt', 'ability', 'reward_model', 'extra_info'],\n",
       "        num_rows: 12854\n",
       "    })\n",
       "    hard: Dataset({\n",
       "        features: ['problem', 'answer', 'solution', 'reward', 'length', 'correct_length', 'incorrect_length', 'data_source', 'prompt', 'ability', 'reward_model', 'extra_info'],\n",
       "        num_rows: 12693\n",
       "    })\n",
       "    medium_2500: Dataset({\n",
       "        features: ['problem', 'answer', 'solution', 'reward', 'length', 'correct_length', 'incorrect_length', 'data_source', 'prompt', 'ability', 'reward_model', 'extra_info'],\n",
       "        num_rows: 2493\n",
       "    })\n",
       "})"
      ]
     },
     "execution_count": 5,
     "metadata": {},
     "output_type": "execute_result"
    }
   ],
   "source": [
    "ds"
   ]
  },
  {
   "cell_type": "code",
   "execution_count": 9,
   "metadata": {},
   "outputs": [
    {
     "data": {
      "text/plain": [
       "'Automobile license plates for a state consist of four letters followed by a dash and two single digits. How many different license plate combinations are possible if exactly one letter is repeated exactly once, but digits cannot be repeated? [asy]\\nsize(150);\\ndraw((0,0)--(0,5)--(10,5)--(10,0)--cycle);\\nlabel(\"\\\\Huge{CHIC - 03}\",(1,3)--(9,3),S);\\nlabel(\"\\\\small\\\\emph{State of Excellence}\",(1,1)--(9,1),S);\\ndraw((0.5,3.5)--(0.5,4.5)--(2,4.5)--(2,3.5)--cycle);\\nlabel(\"\\\\footnotesize 5-03\",(1.25,4));\\ndraw((9.5,3.5)--(9.5,4.5)--(8,4.5)--(8,3.5)--cycle);\\nlabel(\"\\\\footnotesize FX\",(8.75,4));\\n[/asy]'"
      ]
     },
     "execution_count": 9,
     "metadata": {},
     "output_type": "execute_result"
    }
   ],
   "source": [
    "ds['train'][0]['prompt'][0]['content']"
   ]
  },
  {
   "cell_type": "code",
   "execution_count": 10,
   "metadata": {},
   "outputs": [
    {
     "data": {
      "application/vnd.jupyter.widget-view+json": {
       "model_id": "b44e9334ed674ed492efc93f61af4b50",
       "version_major": 2,
       "version_minor": 0
      },
      "text/plain": [
       "Uploading the dataset shards:   0%|          | 0/1 [00:00<?, ?it/s]"
      ]
     },
     "metadata": {},
     "output_type": "display_data"
    },
    {
     "data": {
      "application/vnd.jupyter.widget-view+json": {
       "model_id": "dabd28d26f1340bd94686a64689c8534",
       "version_major": 2,
       "version_minor": 0
      },
      "text/plain": [
       "Creating parquet from Arrow format:   0%|          | 0/39 [00:00<?, ?ba/s]"
      ]
     },
     "metadata": {},
     "output_type": "display_data"
    },
    {
     "data": {
      "application/vnd.jupyter.widget-view+json": {
       "model_id": "b594d3a732014d1fa211302d4e42a60d",
       "version_major": 2,
       "version_minor": 0
      },
      "text/plain": [
       "Uploading the dataset shards:   0%|          | 0/1 [00:00<?, ?it/s]"
      ]
     },
     "metadata": {},
     "output_type": "display_data"
    },
    {
     "data": {
      "application/vnd.jupyter.widget-view+json": {
       "model_id": "7ba861d6315448a8975140660c0fce1e",
       "version_major": 2,
       "version_minor": 0
      },
      "text/plain": [
       "Creating parquet from Arrow format:   0%|          | 0/2 [00:00<?, ?ba/s]"
      ]
     },
     "metadata": {},
     "output_type": "display_data"
    },
    {
     "data": {
      "application/vnd.jupyter.widget-view+json": {
       "model_id": "22c56fadd1fe448bb5704828c35aad69",
       "version_major": 2,
       "version_minor": 0
      },
      "text/plain": [
       "Uploading the dataset shards:   0%|          | 0/1 [00:00<?, ?it/s]"
      ]
     },
     "metadata": {},
     "output_type": "display_data"
    },
    {
     "data": {
      "application/vnd.jupyter.widget-view+json": {
       "model_id": "42c69530c3b047099c5a143c73987649",
       "version_major": 2,
       "version_minor": 0
      },
      "text/plain": [
       "Creating parquet from Arrow format:   0%|          | 0/13 [00:00<?, ?ba/s]"
      ]
     },
     "metadata": {},
     "output_type": "display_data"
    },
    {
     "data": {
      "application/vnd.jupyter.widget-view+json": {
       "model_id": "662fe67ab6034814876cf3480b7638b4",
       "version_major": 2,
       "version_minor": 0
      },
      "text/plain": [
       "Uploading the dataset shards:   0%|          | 0/1 [00:00<?, ?it/s]"
      ]
     },
     "metadata": {},
     "output_type": "display_data"
    },
    {
     "data": {
      "application/vnd.jupyter.widget-view+json": {
       "model_id": "f842e461284e4290bf3cdee5c1b7f832",
       "version_major": 2,
       "version_minor": 0
      },
      "text/plain": [
       "Creating parquet from Arrow format:   0%|          | 0/13 [00:00<?, ?ba/s]"
      ]
     },
     "metadata": {},
     "output_type": "display_data"
    },
    {
     "data": {
      "application/vnd.jupyter.widget-view+json": {
       "model_id": "178e993560ff4999a24c9771c910db30",
       "version_major": 2,
       "version_minor": 0
      },
      "text/plain": [
       "Uploading the dataset shards:   0%|          | 0/1 [00:00<?, ?it/s]"
      ]
     },
     "metadata": {},
     "output_type": "display_data"
    },
    {
     "data": {
      "application/vnd.jupyter.widget-view+json": {
       "model_id": "9d15eefad09c42f5b1c83686b7575013",
       "version_major": 2,
       "version_minor": 0
      },
      "text/plain": [
       "Creating parquet from Arrow format:   0%|          | 0/13 [00:00<?, ?ba/s]"
      ]
     },
     "metadata": {},
     "output_type": "display_data"
    },
    {
     "data": {
      "application/vnd.jupyter.widget-view+json": {
       "model_id": "711c0b3cf2dc440584d38c5260c180c7",
       "version_major": 2,
       "version_minor": 0
      },
      "text/plain": [
       "Uploading the dataset shards:   0%|          | 0/1 [00:00<?, ?it/s]"
      ]
     },
     "metadata": {},
     "output_type": "display_data"
    },
    {
     "data": {
      "application/vnd.jupyter.widget-view+json": {
       "model_id": "7af4ce6b739b45939eaad55908860f93",
       "version_major": 2,
       "version_minor": 0
      },
      "text/plain": [
       "Creating parquet from Arrow format:   0%|          | 0/3 [00:00<?, ?ba/s]"
      ]
     },
     "metadata": {},
     "output_type": "display_data"
    },
    {
     "data": {
      "text/plain": [
       "CommitInfo(commit_url='https://huggingface.co/datasets/Asap7772/d1shs0ap_math_split_verl_processed/commit/0ba17409722b044532234e5faa02ef30ea4de7d8', commit_message='Upload dataset', commit_description='', oid='0ba17409722b044532234e5faa02ef30ea4de7d8', pr_url=None, repo_url=RepoUrl('https://huggingface.co/datasets/Asap7772/d1shs0ap_math_split_verl_processed', endpoint='https://huggingface.co', repo_type='dataset', repo_id='Asap7772/d1shs0ap_math_split_verl_processed'), pr_revision=None, pr_num=None)"
      ]
     },
     "execution_count": 10,
     "metadata": {},
     "output_type": "execute_result"
    }
   ],
   "source": [
    "ds.push_to_hub('Asap7772/d1shs0ap_math_split_verl_processed')"
   ]
  },
  {
   "cell_type": "code",
   "execution_count": null,
   "metadata": {},
   "outputs": [],
   "source": []
  }
 ],
 "metadata": {
  "kernelspec": {
   "display_name": "verl",
   "language": "python",
   "name": "python3"
  },
  "language_info": {
   "codemirror_mode": {
    "name": "ipython",
    "version": 3
   },
   "file_extension": ".py",
   "mimetype": "text/x-python",
   "name": "python",
   "nbconvert_exporter": "python",
   "pygments_lexer": "ipython3",
   "version": "3.10.0"
  }
 },
 "nbformat": 4,
 "nbformat_minor": 2
}
