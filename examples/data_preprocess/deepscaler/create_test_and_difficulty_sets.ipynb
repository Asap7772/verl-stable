{
 "cells": [
  {
   "cell_type": "code",
   "execution_count": 3,
   "metadata": {},
   "outputs": [],
   "source": [
    "from datasets import load_dataset, DatasetDict"
   ]
  },
  {
   "cell_type": "code",
   "execution_count": 6,
   "metadata": {},
   "outputs": [],
   "source": [
    "dataset = load_dataset(\"d1shs0ap/DeepScaleR-Preview-Dataset\", split=\"train\")"
   ]
  },
  {
   "cell_type": "code",
   "execution_count": 7,
   "metadata": {},
   "outputs": [],
   "source": [
    "shuffled = dataset.shuffle(seed=42)\n",
    "\n",
    "# Take the first 38400 as training\n",
    "train_dataset = shuffled.select(range(38400))\n",
    "\n",
    "# Take the rest as test\n",
    "test_dataset = shuffled.select(range(38400, len(shuffled)))"
   ]
  },
  {
   "cell_type": "code",
   "execution_count": null,
   "metadata": {},
   "outputs": [
    {
     "name": "stderr",
     "output_type": "stream",
     "text": [
      "Creating parquet from Arrow format: 100%|██████████| 39/39 [00:01<00:00, 36.56ba/s]\n",
      "Uploading the dataset shards: 100%|██████████| 1/1 [00:01<00:00,  1.81s/it]\n",
      "Creating parquet from Arrow format: 100%|██████████| 2/2 [00:00<00:00, 38.61ba/s]\n",
      "Uploading the dataset shards: 100%|██████████| 1/1 [00:01<00:00,  1.06s/it]\n"
     ]
    },
    {
     "data": {
      "text/plain": [
       "CommitInfo(commit_url='https://huggingface.co/datasets/d1shs0ap/math/commit/0fea3a405365b6682231670d71ec3d82f277164c', commit_message='Upload dataset', commit_description='', oid='0fea3a405365b6682231670d71ec3d82f277164c', pr_url=None, repo_url=RepoUrl('https://huggingface.co/datasets/d1shs0ap/math', endpoint='https://huggingface.co', repo_type='dataset', repo_id='d1shs0ap/math'), pr_revision=None, pr_num=None)"
      ]
     },
     "execution_count": 8,
     "metadata": {},
     "output_type": "execute_result"
    }
   ],
   "source": [
    "dataset_dict = DatasetDict({\n",
    "    \"train\": train_dataset,\n",
    "    \"test\": test_dataset\n",
    "})\n",
    "\n",
    "dataset_dict.push_to_hub(\"d1shs0ap/math\")\n"
   ]
  },
  {
   "cell_type": "code",
   "execution_count": 32,
   "metadata": {},
   "outputs": [
    {
     "name": "stdout",
     "output_type": "stream",
     "text": [
      "12693\n"
     ]
    }
   ],
   "source": [
    "filtered_train = train_dataset.filter(lambda example: example[\"reward\"] == 0)\n",
    "print(len(filtered_train))"
   ]
  },
  {
   "cell_type": "code",
   "execution_count": 33,
   "metadata": {},
   "outputs": [
    {
     "name": "stderr",
     "output_type": "stream",
     "text": [
      "Creating parquet from Arrow format: 100%|██████████| 13/13 [00:00<00:00, 35.80ba/s]\n",
      "Uploading the dataset shards: 100%|██████████| 1/1 [00:00<00:00,  1.69it/s]\n"
     ]
    },
    {
     "data": {
      "text/plain": [
       "CommitInfo(commit_url='https://huggingface.co/datasets/d1shs0ap/math/commit/6f0c4ab5f9f07f8a217f0c6ee80dcaee2c207e6c', commit_message='Upload dataset', commit_description='', oid='6f0c4ab5f9f07f8a217f0c6ee80dcaee2c207e6c', pr_url=None, repo_url=RepoUrl('https://huggingface.co/datasets/d1shs0ap/math', endpoint='https://huggingface.co', repo_type='dataset', repo_id='d1shs0ap/math'), pr_revision=None, pr_num=None)"
      ]
     },
     "execution_count": 33,
     "metadata": {},
     "output_type": "execute_result"
    }
   ],
   "source": [
    "filtered_train.push_to_hub(\"d1shs0ap/math\", split=\"hard\")"
   ]
  },
  {
   "cell_type": "code",
   "execution_count": null,
   "metadata": {},
   "outputs": [],
   "source": []
  }
 ],
 "metadata": {
  "kernelspec": {
   "display_name": "vllm",
   "language": "python",
   "name": "python3"
  },
  "language_info": {
   "codemirror_mode": {
    "name": "ipython",
    "version": 3
   },
   "file_extension": ".py",
   "mimetype": "text/x-python",
   "name": "python",
   "nbconvert_exporter": "python",
   "pygments_lexer": "ipython3",
   "version": "3.12.9"
  }
 },
 "nbformat": 4,
 "nbformat_minor": 2
}
