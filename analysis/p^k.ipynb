{
 "cells": [
  {
   "cell_type": "code",
   "execution_count": 10,
   "metadata": {},
   "outputs": [],
   "source": [
    "import json\n",
    "from transformers import AutoTokenizer"
   ]
  },
  {
   "cell_type": "code",
   "execution_count": 11,
   "metadata": {},
   "outputs": [],
   "source": [
    "tokenizer = AutoTokenizer.from_pretrained(\"Qwen/Qwen2.5-1.5B\")"
   ]
  },
  {
   "cell_type": "code",
   "execution_count": 12,
   "metadata": {},
   "outputs": [],
   "source": [
    "with open('/home/cmu/math-curriculum/rollouts/8192-simple-hkust-1.5B/0_rollouts.json', 'r') as f:\n",
    "    start_data = json.load(f)\n",
    "\n",
    "with open('/home/cmu/math-curriculum/rollouts/8192-simple-hkust-1.5B/160_rollouts.json', 'r') as f:\n",
    "    end_data = json.load(f)"
   ]
  },
  {
   "cell_type": "code",
   "execution_count": 28,
   "metadata": {},
   "outputs": [
    {
     "name": "stdout",
     "output_type": "stream",
     "text": [
      "\n",
      "\n",
      "================= FIRST ITERATION (length: 207, reward: 0.0) ================\n",
      "196 = 2 x 98 = 2 x 7 x 14 = 2 x 7 x 2 x 7 = 2 x 7^2\n",
      "When a whole number is written in prime factors, only the powers of the prime numbers are listed.\n",
      "There may be more than one 2 listed or more than one 7, but there may not be more than one 2 listed and one 7 listed.\n",
      "The total number of divisors is the total 2's and the total 7's multiplied together.\n",
      "2 and 7 are the only prime numbers listed, but we only counted 1 for 2, not 2.\n",
      "The number 7 appears twice, so that will be written as two 7's.\n",
      "So there is only one divisor that is 1. All other divisors have two 7's in the prime factorization.\n",
      "So the answer is 1 + 2 = 3.\n",
      "Solution:\n",
      "3\n",
      "Keywords: divisor, whole numbers\n",
      "\n",
      "\n",
      "================= LAST ITERATION (length: 446, reward: 1.0) ================\n",
      "To determine the number of positive whole-number divisors of 196, we first need to find its prime factorization.\n",
      "\n",
      "1. Start by dividing 196 by the smallest prime number, which is 2:\n",
      "   \\[\n",
      "   196 \\div 2 = 98\n",
      "   \\]\n",
      "   So, we have:\n",
      "   \\[\n",
      "   196 = 2 \\times 98\n",
      "   \\]\n",
      "   Next, divide 98 by 2:\n",
      "   \\[\n",
      "   98 \\div 2 = 49\n",
      "   \\]\n",
      "   So, we have:\n",
      "   \\[\n",
      "   196 = 2^2 \\times 49\n",
      "   \\]\n",
      "   Now, 49 is not divisible by 2, so we move to the next smallest prime number, which is 7:\n",
      "   \\[\n",
      "   49 \\div 7 = 7\n",
      "   \\]\n",
      "   So, we have:\n",
      "   \\[\n",
      "   196 = 2^2 \\times 7^2\n",
      "   \\]\n",
      "\n",
      "2. Now that we have the prime factorization of 196, which is \\(2^2 \\times 7^2\\), we can use the formula for finding the number of divisors. If a number has a prime factorization of the form \\(p_1^{e_1} \\times p_2^{e_2} \\times \\ldots \\times p_k^{e_k}\\), then the number of positive divisors is given by:\n",
      "   \\[\n",
      "   (e_1 + 1)(e_2 + 1) \\cdots (e_k + 1)\n",
      "   \\]\n",
      "   For \\(196 = 2^2 \\times 7^2\\), the exponents are 2 and 2. Adding 1 to each exponent, we get:\n",
      "   \\[\n",
      "   (2 + 1)(2 + 1) = 3 \\times 3 = 9\n",
      "   \\]\n",
      "\n",
      "Therefore, the number of positive whole-number divisors of 196 is \\(\\boxed{9}\\).\n"
     ]
    }
   ],
   "source": [
    "# for start_row, end_row in zip(start_data, end_data):\n",
    "start_row = start_data[24]\n",
    "end_row = end_data[24]\n",
    "\n",
    "start_len = len(tokenizer.encode(start_row['output']))\n",
    "end_len = len(tokenizer.encode(end_row['output']))\n",
    "\n",
    "start_score = start_row['score']\n",
    "end_score = end_row['score']\n",
    "\n",
    "print(f\"\\n\\n================= FIRST ITERATION (length: {start_len}, reward: {start_score}) ================\")\n",
    "print(start_row['output'])\n",
    "print(f\"\\n\\n================= LAST ITERATION (length: {end_len}, reward: {end_score}) ================\")\n",
    "print(end_row['output'])"
   ]
  },
  {
   "cell_type": "code",
   "execution_count": null,
   "metadata": {},
   "outputs": [],
   "source": []
  },
  {
   "cell_type": "code",
   "execution_count": null,
   "metadata": {},
   "outputs": [],
   "source": []
  }
 ],
 "metadata": {
  "kernelspec": {
   "display_name": "vllm",
   "language": "python",
   "name": "python3"
  },
  "language_info": {
   "codemirror_mode": {
    "name": "ipython",
    "version": 3
   },
   "file_extension": ".py",
   "mimetype": "text/x-python",
   "name": "python",
   "nbconvert_exporter": "python",
   "pygments_lexer": "ipython3",
   "version": "3.12.9"
  }
 },
 "nbformat": 4,
 "nbformat_minor": 2
}
